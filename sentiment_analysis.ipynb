{
 "cells": [
  {
   "cell_type": "code",
   "execution_count": 81,
   "metadata": {},
   "outputs": [
    {
     "data": {
      "text/plain": [
       "Index(['id', 'dateAdded', 'dateUpdated', 'name', 'asins', 'brand',\n",
       "       'categories', 'primaryCategories', 'imageURLs', 'keys', 'manufacturer',\n",
       "       'manufacturerNumber', 'reviews.date', 'reviews.dateAdded',\n",
       "       'reviews.dateSeen', 'reviews.doRecommend', 'reviews.id',\n",
       "       'reviews.numHelpful', 'reviews.rating', 'reviews.sourceURLs',\n",
       "       'reviews.text', 'reviews.title', 'reviews.username', 'sourceURLs'],\n",
       "      dtype='object')"
      ]
     },
     "execution_count": 81,
     "metadata": {},
     "output_type": "execute_result"
    }
   ],
   "source": [
    "import pandas as pd\n",
    "import spacy\n",
    "from spacytextblob.spacytextblob import SpacyTextBlob\n",
    "\n",
    "#Load the English language model for SpaCy\n",
    "nlp = spacy.load(\"en_core_web_sm\")\n",
    "nlp.add_pipe('spacytextblob')\n",
    "\n",
    "#Load the dataset\n",
    "df = pd.read_csv('Consumer_Reviews_Amazon.csv', encoding='unicode_escape')\n",
    "df.head()\n",
    "\n",
    "#column names\n",
    "df.columns\n",
    "\n",
    "\n"
   ]
  },
  {
   "cell_type": "code",
   "execution_count": 82,
   "metadata": {},
   "outputs": [
    {
     "data": {
      "text/html": [
       "<div>\n",
       "<style scoped>\n",
       "    .dataframe tbody tr th:only-of-type {\n",
       "        vertical-align: middle;\n",
       "    }\n",
       "\n",
       "    .dataframe tbody tr th {\n",
       "        vertical-align: top;\n",
       "    }\n",
       "\n",
       "    .dataframe thead th {\n",
       "        text-align: right;\n",
       "    }\n",
       "</style>\n",
       "<table border=\"1\" class=\"dataframe\">\n",
       "  <thead>\n",
       "    <tr style=\"text-align: right;\">\n",
       "      <th></th>\n",
       "      <th>reviews.text</th>\n",
       "    </tr>\n",
       "  </thead>\n",
       "  <tbody>\n",
       "    <tr>\n",
       "      <th>0</th>\n",
       "      <td>I thought it would be as big as small paper bu...</td>\n",
       "    </tr>\n",
       "    <tr>\n",
       "      <th>1</th>\n",
       "      <td>This kindle is light and easy to use especiall...</td>\n",
       "    </tr>\n",
       "    <tr>\n",
       "      <th>2</th>\n",
       "      <td>Didnt know how much i'd use a kindle so went f...</td>\n",
       "    </tr>\n",
       "    <tr>\n",
       "      <th>3</th>\n",
       "      <td>I am 100 happy with my purchase. I caught it o...</td>\n",
       "    </tr>\n",
       "    <tr>\n",
       "      <th>4</th>\n",
       "      <td>Solid entry level Kindle. Great for kids. Gift...</td>\n",
       "    </tr>\n",
       "  </tbody>\n",
       "</table>\n",
       "</div>"
      ],
      "text/plain": [
       "                                        reviews.text\n",
       "0  I thought it would be as big as small paper bu...\n",
       "1  This kindle is light and easy to use especiall...\n",
       "2  Didnt know how much i'd use a kindle so went f...\n",
       "3  I am 100 happy with my purchase. I caught it o...\n",
       "4  Solid entry level Kindle. Great for kids. Gift..."
      ]
     },
     "execution_count": 82,
     "metadata": {},
     "output_type": "execute_result"
    }
   ],
   "source": [
    "#select 'reviews.text' column\n",
    "#dropna() method removes the rows that contains NULL values.\n",
    "reviews_data=df[['reviews.text']].dropna()\n",
    "reviews_data.head()\n"
   ]
  },
  {
   "cell_type": "code",
   "execution_count": 83,
   "metadata": {},
   "outputs": [],
   "source": [
    "# Function to preprocess text data\n",
    "def preprocess_text (text):\n",
    "     # Remove stopwords and perform any additional text cleaning\n",
    "    doc = nlp(text)\n",
    "    processed_text = ' '.join([token.text for token in doc if not token.is_stop])\n",
    "    return processed_text"
   ]
  },
  {
   "cell_type": "code",
   "execution_count": 84,
   "metadata": {},
   "outputs": [],
   "source": [
    "# Function for sentiment analysis\n",
    "def analyze_sentiment(review):\n",
    "    # Preprocess the review text\n",
    "    processed_review = preprocess_text(review)\n",
    "    \n",
    "    # Perform sentiment analysis using spaCy\n",
    "    doc = nlp(processed_review)\n",
    "    \n",
    "    # Determine sentiment (for simplicity, just using polarity)\n",
    "    polarity = doc._.polarity\n",
    "    \n",
    "    # Return sentiment polarity\n",
    "    return polarity"
   ]
  },
  {
   "cell_type": "code",
   "execution_count": 85,
   "metadata": {},
   "outputs": [
    {
     "name": "stdout",
     "output_type": "stream",
     "text": [
      "Review: This product is wonderful! I like it. | Polarity: 1.0\n",
      "Review: I could not decide either I am happy or I am disappointed | Polarity: 0.025000000000000022\n",
      "Review: The product didn't meet my expectations. | Polarity: 0.0\n",
      "Review: This product is definitely useless | Polarity: -0.5\n",
      "Review: I'm very happy with this purchase. | Polarity: 0.8\n",
      "Review: Wow, where do I even begin with this AMAZING product from Amazon? Let's start with the fact that it arrived a whole week later than promised, thanks for the speedy delivery, Amazon! And when I finally got my hands on it, surprise surprise, it was broken! But hey, who needs a functioning product anyway, right? And let's not forget about the wonderful customer service experience I had when I tried to get a refund - spent hours on the phone with a robot just to be told I'm out of luck. Thanks for nothing, Amazon! Definitely won't be buying from you again... unless I need another broken item and terrible customer service, of course! | Polarity: 0.03736263736263737\n"
     ]
    }
   ],
   "source": [
    "# Test the sentiment analysis function\n",
    "sample_reviews = [\n",
    "    \"This product is wonderful! I like it.\",\n",
    "    \"I could not decide either I am happy or I am disappointed\",\n",
    "    \"The product didn't meet my expectations.\",\n",
    "    \"This product is definitely useless\",\n",
    "    \"I'm very happy with this purchase.\",\n",
    "    #it is sarcastic review\n",
    "    \"Wow, where do I even begin with this AMAZING product from Amazon? Let's start with the fact that it arrived a whole week later than promised, thanks for the speedy delivery, Amazon! And when I finally got my hands on it, surprise surprise, it was broken! But hey, who needs a functioning product anyway, right? And let's not forget about the wonderful customer service experience I had when I tried to get a refund - spent hours on the phone with a robot just to be told I'm out of luck. Thanks for nothing, Amazon! Definitely won't be buying from you again... unless I need another broken item and terrible customer service, of course!\"\n",
    "]\n",
    "\n",
    "for review in sample_reviews:\n",
    "    polarity = analyze_sentiment(review)\n",
    "    print(f\"Review: {review} | Polarity: {polarity}\")"
   ]
  },
  {
   "cell_type": "code",
   "execution_count": 86,
   "metadata": {},
   "outputs": [
    {
     "name": "stdout",
     "output_type": "stream",
     "text": [
      "Cosine Similarity: 0.5644873151556841\n"
     ]
    },
    {
     "name": "stderr",
     "output_type": "stream",
     "text": [
      "C:\\Users\\admin\\AppData\\Local\\Temp\\ipykernel_9936\\3195795184.py:8: UserWarning: [W007] The model you're using has no word vectors loaded, so the result of the Doc.similarity method will be based on the tagger, parser and NER, which may not give useful similarity judgements. This may happen if you're using one of the small models, e.g. `en_core_web_sm`, which don't ship with word vectors and only use context-sensitive tensors. You can always add your own word vectors, or use one of the larger models instead if available.\n",
      "  similarity = doc1.similarity(doc2)\n"
     ]
    }
   ],
   "source": [
    "#Chose two product reviews \n",
    "#I have chosen first and second rows reviews\n",
    "doc1 = nlp(df['reviews.text'][0])\n",
    "doc2 = nlp(df['reviews.text'][1])\n",
    "\n",
    "\n",
    "# Compute cosine similarity\n",
    "similarity = doc1.similarity(doc2)\n",
    "\n",
    "print(f\"Cosine Similarity: {similarity}\")"
   ]
  }
 ],
 "metadata": {
  "kernelspec": {
   "display_name": "venv",
   "language": "python",
   "name": "python3"
  },
  "language_info": {
   "codemirror_mode": {
    "name": "ipython",
    "version": 3
   },
   "file_extension": ".py",
   "mimetype": "text/x-python",
   "name": "python",
   "nbconvert_exporter": "python",
   "pygments_lexer": "ipython3",
   "version": "3.12.1"
  }
 },
 "nbformat": 4,
 "nbformat_minor": 2
}
